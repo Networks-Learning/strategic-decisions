{
 "cells": [
  {
   "attachments": {},
   "cell_type": "markdown",
   "metadata": {},
   "source": [
    "# Algorithm performance on credit card data under unobserved confounding (Figure 5)\n",
    "\n",
    "In this notebook we produce plots to compare the performance of the algorithms presented in the paper in terms of utility for instances generated based on real data, when the probabilities $P(y=1|x)$ are affected by unobserved confounding. The resulting plots are presented in Figure 5.\n",
    "\n",
    "**Required script execution:** confounding.sh"
   ]
  },
  {
   "cell_type": "code",
   "execution_count": 1,
   "metadata": {},
   "outputs": [],
   "source": [
    "import os\n",
    "os.chdir(\"../\")"
   ]
  },
  {
   "cell_type": "code",
   "execution_count": 2,
   "metadata": {},
   "outputs": [],
   "source": [
    "import pandas as pd\n",
    "import numpy as np\n",
    "import math\n",
    "import matplotlib.pyplot as plt\n",
    "from matplotlib import container\n",
    "plt.style.use('default')\n",
    "import seaborn as sns\n",
    "import glob\n",
    "import json\n",
    "from lib import utils\n",
    "from matplotlib.colors import LogNorm\n",
    "import matplotlib.ticker as mtick\n",
    "import copy\n",
    "import scipy\n",
    "from mpl_toolkits.axes_grid1.inset_locator import zoomed_inset_axes\n",
    "from mpl_toolkits.axes_grid1.inset_locator import mark_inset\n",
    "sns.set_context(\"paper\", font_scale=4)"
   ]
  },
  {
   "cell_type": "code",
   "execution_count": 3,
   "metadata": {},
   "outputs": [],
   "source": [
    "name=\"confounding\"\n",
    "datas=\"credit\"\n",
    "gamma=0.8563985631883158\n",
    "cost_method='max_percentile_shift'\n",
    "final_df = []\n",
    "cols = sns.color_palette(\"Set2\",9)\n",
    "col_dict = {\"Non-Strategic\": cols[0],\n",
    "            \"Bruteforce\": cols[1],\n",
    "            \"Threshold\": cols[2],\n",
    "            \"Iterative\": cols[3],\n",
    "            \"Iterative (Optimized)\": cols[4],\n",
    "            \"DP\": cols[5]\n",
    "           }\n",
    "linestyles_dict = {\"Non-Strategic\": \"-.\",\n",
    "            \"Bruteforce\": \"-\",\n",
    "            \"Threshold\": \"-\",\n",
    "            \"Iterative\": \"--\",\n",
    "            \"Iterative (Optimized)\": \"-.\",\n",
    "            \"DP\": \":\"\n",
    "           }\n",
    "markers_dict = {\"Non-Strategic\": \"v\",\n",
    "            \"Bruteforce\": \"s\",\n",
    "            \"Threshold\": \"^\",\n",
    "            \"Iterative\": \"o\",\n",
    "            \"Iterative (Optimized)\": \"P\",\n",
    "            \"DP\": \"D\"\n",
    "           }"
   ]
  },
  {
   "cell_type": "code",
   "execution_count": 4,
   "metadata": {},
   "outputs": [],
   "source": [
    "files = glob.glob(\"./outputs/optimal/{name}_*_data_{datas}_cost_{cost_method}_*_config.json\".format(name=name, datas=datas, cost_method=cost_method))\n",
    "data = []\n",
    "\n",
    "for ind,fi in enumerate(files):\n",
    "    with open(fi,\"r\") as file:\n",
    "        parts = fi.split('_')\n",
    "        algo = parts[1]\n",
    "        level = parts[9]\n",
    "        seed = parts[11]\n",
    "        \n",
    "        obj = json.load(file)\n",
    "        if algo == 'thres':\n",
    "            util = obj['strategic_threshold']\n",
    "        elif algo =='iterative':\n",
    "            util = obj['strategic']\n",
    "            non_strategic_util = obj['non_strategic']\n",
    "            \n",
    "        data.append({'Algorithm': algo, 'level': level, 'seed': seed, 'utility': util})\n",
    "        if algo == 'iterative':\n",
    "            data.append({'Algorithm': 'non_strategic', 'level': level, 'seed': seed, 'utility': non_strategic_util})\n",
    "        \n",
    "df_standard = pd.DataFrame(data)"
   ]
  },
  {
   "cell_type": "code",
   "execution_count": 5,
   "metadata": {},
   "outputs": [],
   "source": [
    "df_standard['Algorithm'] = df_standard['Algorithm'].str.replace(\"non_strategic\", \"Non-Strategic\")\n",
    "df_standard['Algorithm'] = df_standard['Algorithm'].str.replace(\"thres\", \"Threshold\")\n",
    "df_standard['Algorithm'] = df_standard['Algorithm'].str.replace(\"iterative\", \"Iterative\")"
   ]
  },
  {
   "cell_type": "code",
   "execution_count": 6,
   "metadata": {},
   "outputs": [
    {
     "data": {
      "text/plain": [
       "array(['0.15', '0.55', '0.65', '0.45', '0.30', '0.95', '0.40', '0.10',\n",
       "       '0.50', '0.20', '0.60', '0.90', '0.35', '0.80', '0.05', '0.75',\n",
       "       '0.25', '0.00', '0.70', '0.85', '1.00'], dtype=object)"
      ]
     },
     "execution_count": 6,
     "metadata": {},
     "output_type": "execute_result"
    }
   ],
   "source": [
    "df_standard['level'].unique()"
   ]
  },
  {
   "attachments": {},
   "cell_type": "markdown",
   "metadata": {},
   "source": [
    "### Utility plot under confounding"
   ]
  },
  {
   "cell_type": "code",
   "execution_count": 7,
   "metadata": {},
   "outputs": [],
   "source": [
    "utils.latexify(8,5, font_scale=3.0)\n",
    "ax = plt.gca()\n",
    "df = df_standard\n",
    "df['level'] = pd.to_numeric(df['level'])\n",
    "df['utility'] = pd.to_numeric(df['utility'])\n",
    "df.sort_values([\"Algorithm\"], inplace=True)\n",
    "algorithms=[\"Non-Strategic\", \"Threshold\", \"Iterative\"]\n",
    "colors = [col_dict[alg] for alg in algorithms]\n",
    "markers = [markers_dict[alg] for alg in algorithms]\n",
    "linestyles = [linestyles_dict[alg] for alg in algorithms]\n",
    "\n",
    "lines={}\n",
    "levels=sorted(df['level'].unique())\n",
    "for alg in algorithms:\n",
    "    lines[alg]=[]\n",
    "    for x_val in levels:\n",
    "        line_l=pd.DataFrame(df[(df['Algorithm']==alg) & (df['level']==x_val)], columns=['utility']).values.tolist()\n",
    "        lines[alg].append((x_val,np.mean(line_l),np.std(line_l)))\n",
    "\n",
    "ax=plt.subplot(111)\n",
    "new_handles = []\n",
    "for alg in algorithms:\n",
    "    line_sorted=sorted(lines[alg], key=lambda x:x[0])\n",
    "    x_vals=[x[0] for x in line_sorted]\n",
    "    y_vals=[x[1] for x in line_sorted]\n",
    "    std_vals=[x[2] for x in line_sorted]\n",
    "    # h, = ax.plot(x_vals, y_vals, linestyle=linestyles_dict[alg], marker=markers_dict[alg], label=alg, markersize=9, color=col_dict[alg], linewidth=2)\n",
    "    h,_,_ = ax.errorbar(x_vals, y_vals, yerr=std_vals, linestyle=linestyles_dict[alg], marker=markers_dict[alg],\n",
    "    label=alg, markersize=9, color=col_dict[alg], linewidth=2) #linestyle=linestyles_dict[alg], marker=markers_dict[alg], label=alg, markersize=9, color=col_dict[alg], linewidth=2)\n",
    "    new_handles.append(copy.copy(h))\n",
    "\n",
    "for ind, alg in enumerate(algorithms):\n",
    "    new_handles[ind].set_color('w')\n",
    "    new_handles[ind].set_label(alg)\n",
    "    new_handles[ind].set_markerfacecolor(col_dict[alg])\n",
    "    new_handles[ind].set_markeredgecolor(col_dict[alg])\n",
    "    new_handles[ind].set_markersize(9)\n",
    "    new_handles[ind].set_markeredgewidth(1)\n",
    "\n",
    "plt.legend(handles=new_handles, shadow=None, loc='upper right', labelspacing=0.1, handletextpad=0.3)\n",
    "plt.ylabel(\"Utility, $u(\\\\pi,\\\\gamma)$\")\n",
    "plt.xlabel(\"$\\\\lambda$\")\n",
    "ax.spines['top'].set_visible(False)\n",
    "ax.spines['right'].set_visible(False)\n",
    "# ax.set_xscale('log')\n",
    "ax.set_ylim([0.015, 0.035])\n",
    "# plt.xticks(ticks=sorted(df['level'].unique()), labels=sorted(df['level'].unique()), rotation = 30)\n",
    "plt.savefig(\"./figures/optimal/confounding.pdf\", bbox_inches='tight', )\n",
    "plt.clf()"
   ]
  },
  {
   "attachments": {},
   "cell_type": "markdown",
   "metadata": {},
   "source": [
    "### Plot of PDF of P(y | x -> x')"
   ]
  },
  {
   "cell_type": "code",
   "execution_count": 8,
   "metadata": {},
   "outputs": [],
   "source": [
    "def confounding_to_beta(level, min_alphabeta=0.1, max_alphabeta=1.5):\n",
    "    assert 0 <= level <= 1, 'level must be between 0 and 1'\n",
    "    if level == 0.5:\n",
    "        return (scipy.stats.beta(max_alphabeta, max_alphabeta), max_alphabeta, max_alphabeta)\n",
    "    elif level < 0.5:\n",
    "        alpha = max_alphabeta\n",
    "        beta = (1 - 2 * level) * min_alphabeta + 2 * level * max_alphabeta\n",
    "        return (scipy.stats.beta(alpha, beta), alpha, beta)\n",
    "    else:\n",
    "        alpha = (2 * level - 1) * min_alphabeta + (2 - 2 * level) * max_alphabeta\n",
    "        beta = max_alphabeta\n",
    "        return (scipy.stats.beta(alpha, beta), alpha, beta)\n",
    "\n",
    "# Define the range of x values\n",
    "x_values = np.linspace(0, 1, 1000)\n",
    "\n",
    "levels = [0.1, 0.3, 0.5, 0.7, 0.9]\n",
    "distributions = [confounding_to_beta(level) for level in levels]\n",
    "\n",
    "utils.latexify(8,5, font_scale=3.0)\n",
    "ax = plt.gca()\n",
    "linestyles = [\"-.\", \"-\", \":\", \"--\", \"-\"]\n",
    "for ind, dist in enumerate(distributions):\n",
    "    u_values = [x for x in x_values]\n",
    "    pdf_values = dist[0].pdf(x_values)\n",
    "    level = levels[ind]\n",
    "    label = f\"$\\\\lambda={level:.1f}$\"\n",
    "    maxv = pdf_values[1:-1].max()\n",
    "    pdf_values /= maxv  # Normalize the PDF values\n",
    "    ax.plot(x_values, pdf_values, label=label, color=cols[ind], linewidth=2, linestyle=linestyles[ind])\n",
    "ax.legend(loc='right', bbox_to_anchor=(1.35, 0.5))\n",
    "ax.set_xlabel(\"$P_V(y=1 \\\\,|\\\\, \\\\mathbf{x} \\\\rightarrow \\\\mathbf{x'})$\")\n",
    "ax.set_ylabel('Probability density')\n",
    "ax.set_yticks([0, 1], labels=[\"0\", \"Max.\"])\n",
    "ax.set_xticks([0, 1], labels=[\"$P(y=1 \\\\,|\\\\, \\\\mathbf{x})$\", \"$P(y=1 \\\\,|\\\\, \\\\mathbf{x'})$\"])\n",
    "ax.spines['top'].set_visible(False)\n",
    "ax.spines['right'].set_visible(False)\n",
    "plt.savefig(\"./figures/optimal/confounding_distributions.pdf\", bbox_inches='tight', )\n",
    "plt.clf()"
   ]
  },
  {
   "cell_type": "code",
   "execution_count": null,
   "metadata": {},
   "outputs": [],
   "source": []
  }
 ],
 "metadata": {
  "kernelspec": {
   "display_name": "Python 3.9.1 ('env': venv)",
   "language": "python",
   "name": "python3"
  },
  "language_info": {
   "codemirror_mode": {
    "name": "ipython",
    "version": 3
   },
   "file_extension": ".py",
   "mimetype": "text/x-python",
   "name": "python",
   "nbconvert_exporter": "python",
   "pygments_lexer": "ipython3",
   "version": "3.11.2"
  },
  "vscode": {
   "interpreter": {
    "hash": "0ddb0c2da25db7768b0241d542d21cb35172a6678fcb32e19d61594f5477b3c6"
   }
  }
 },
 "nbformat": 4,
 "nbformat_minor": 2
}
