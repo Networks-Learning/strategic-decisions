{
 "cells": [
  {
   "cell_type": "markdown",
   "metadata": {},
   "source": [
    "# Algorithm performance and running time comparison on synthetic data (Figures EC.2, EC.3, EC.4, EC.5)\n",
    "\n",
    "In this notebook we produce plots to compare the performance of the algorithms presented in the paper in terms of utility and running time for additive and outcome monotonic instances. The resulting plots are presented in Figures EC.2, EC.3, EC.4 & EC.5 of the Electronic Companion.\n",
    "\n",
    "**Required script execution:** additive.sh"
   ]
  },
  {
   "cell_type": "code",
   "execution_count": 1,
   "metadata": {},
   "outputs": [],
   "source": [
    "import os\n",
    "os.chdir(\"../../\")"
   ]
  },
  {
   "cell_type": "code",
   "execution_count": 2,
   "metadata": {},
   "outputs": [],
   "source": [
    "import pandas as pd\n",
    "import numpy as np\n",
    "import matplotlib.pyplot as plt\n",
    "import seaborn as sns\n",
    "import glob\n",
    "import json\n",
    "\n",
    "from lib import utils\n",
    "from mpl_toolkits.axes_grid1.inset_locator import zoomed_inset_axes\n",
    "from mpl_toolkits.axes_grid1.inset_locator import mark_inset\n",
    "from matplotlib.ticker import FormatStrFormatter\n",
    "\n",
    "sns.set_theme(context='paper', style='ticks', font_scale=4)"
   ]
  },
  {
   "cell_type": "markdown",
   "metadata": {},
   "source": [
    "Here, set the value of $\\kappa$ (choose from \\{$0.1$, $0.25$, $0.5$\\}) and the type of cost function (choose from \\{uniform, exponential\\})."
   ]
  },
  {
   "cell_type": "code",
   "execution_count": 3,
   "metadata": {},
   "outputs": [],
   "source": [
    "name=\"additive\"\n",
    "kappa=0.1\n",
    "cost_method=\"uniform\"\n",
    "final_df = []\n",
    "cols = sns.color_palette(\"Set2\",9)\n",
    "col_dict = {\"Non-Strategic\": cols[0],\n",
    "            \"Bruteforce\": cols[1],\n",
    "            \"Threshold\": cols[2],\n",
    "            \"Iterative\": cols[3],\n",
    "            \"DP\": cols[5]\n",
    "           }\n",
    "linestyles_dict = {\"Non-Strategic\": \"-.\",\n",
    "            \"Bruteforce\": \"-\",\n",
    "            \"Threshold\": \"-\",\n",
    "            \"Iterative\": \"--\",\n",
    "            \"DP\": \":\"\n",
    "           }\n",
    "markers_dict = {\"Non-Strategic\": \"v\",\n",
    "            \"Bruteforce\": \"s\",\n",
    "            \"Threshold\": \"^\",\n",
    "            \"Iterative\": \"o\",\n",
    "            \"DP\": \"D\"\n",
    "           }"
   ]
  },
  {
   "cell_type": "code",
   "execution_count": 4,
   "metadata": {},
   "outputs": [],
   "source": [
    "files = glob.glob(\"./outputs/optimal/{name}_bruteforce_cost_{cost_method}_*_config.json\".format(name=name, cost_method=cost_method))\n",
    "data = []\n",
    "\n",
    "for fi in files:\n",
    "    with open(fi,\"r\") as file:\n",
    "        data.append(json.load(file))\n",
    "df_standard = pd.DataFrame(data)\n",
    "final_df.append(df_standard.melt(id_vars=[\"m\", \"seed\", \"kappa\", \"sparsity\", \"time\", \"pi\", \"bruteforce_br\"], var_name=\"algorithm\", value_name=\"utility\"))"
   ]
  },
  {
   "cell_type": "code",
   "execution_count": 5,
   "metadata": {},
   "outputs": [],
   "source": [
    "files = glob.glob(\"./outputs/optimal/{name}_dp_cost_{cost_method}_*_config.json\".format(name=name, cost_method=cost_method))\n",
    "data = []\n",
    "for fi in files:\n",
    "    with open(fi,\"r\") as file:\n",
    "        data.append(json.load(file))\n",
    "df_standard = pd.DataFrame(data)\n",
    "final_df.append(df_standard.melt(id_vars=[\"m\", \"seed\", \"kappa\", \"time\", \"iterations\", \"pi\", \"dp_br\"], var_name=\"algorithm\", value_name=\"utility\"))"
   ]
  },
  {
   "cell_type": "code",
   "execution_count": 6,
   "metadata": {},
   "outputs": [],
   "source": [
    "files = glob.glob(\"./outputs/optimal/{name}_iterative_cost_{cost_method}_*_config.json\".format(name=name, cost_method=cost_method))\n",
    "data = []\n",
    "\n",
    "for fi in files:\n",
    "    with open(fi,\"r\") as file:\n",
    "        data.append(json.load(file))\n",
    "df_standard = pd.DataFrame(data)\n",
    "final_df.append(df_standard.melt(id_vars=[\"m\", \"seed\", \"kappa\", \"sparsity\", \"time\", \"parallel\", \"split_components\", \"iterations\", \"pi\", \"strategic_br\", \"pi_non_strategic\", \"non_strategic_br\", \"strategic_deter_br\", \"pi_strategic_deter\", \"strategic_deter\"], var_name=\"algorithm\", value_name=\"utility\"))"
   ]
  },
  {
   "cell_type": "code",
   "execution_count": 7,
   "metadata": {},
   "outputs": [],
   "source": [
    "files = glob.glob(\"./outputs/optimal/{name}_thres_cost_{cost_method}_*_config.json\".format(name=name, cost_method=cost_method))\n",
    "data = []\n",
    "\n",
    "for fi in files:\n",
    "    with open(fi,\"r\") as file:\n",
    "        data.append(json.load(file))\n",
    "df_standard = pd.DataFrame(data)\n",
    "final_df.append(df_standard.melt(id_vars=[\"m\", \"seed\", \"kappa\", \"sparsity\", \"time\", \"pi\", \"strategic_threshold_br\"], var_name=\"algorithm\", value_name=\"utility\"))"
   ]
  },
  {
   "cell_type": "code",
   "execution_count": 8,
   "metadata": {},
   "outputs": [
    {
     "name": "stderr",
     "output_type": "stream",
     "text": [
      "/var/folders/gy/xwt8ngc15hj3w_8vq_bk0yz80000gt/T/ipykernel_92926/1023273751.py:2: SettingWithCopyWarning: \n",
      "A value is trying to be set on a copy of a slice from a DataFrame\n",
      "\n",
      "See the caveats in the documentation: https://pandas.pydata.org/pandas-docs/stable/user_guide/indexing.html#returning-a-view-versus-a-copy\n",
      "  df['algorithm'][df['algorithm']==\"strategic\"] = df['algorithm'][df['algorithm']==\"strategic\"]+df['split_components'][df['algorithm']==\"strategic\"].astype(str)\n",
      "/var/folders/gy/xwt8ngc15hj3w_8vq_bk0yz80000gt/T/ipykernel_92926/1023273751.py:2: SettingWithCopyWarning: \n",
      "A value is trying to be set on a copy of a slice from a DataFrame\n",
      "\n",
      "See the caveats in the documentation: https://pandas.pydata.org/pandas-docs/stable/user_guide/indexing.html#returning-a-view-versus-a-copy\n",
      "  df['algorithm'][df['algorithm']==\"strategic\"] = df['algorithm'][df['algorithm']==\"strategic\"]+df['split_components'][df['algorithm']==\"strategic\"].astype(str)\n"
     ]
    }
   ],
   "source": [
    "df = pd.concat(final_df)\n",
    "df['algorithm'][df['algorithm']==\"strategic\"] = df['algorithm'][df['algorithm']==\"strategic\"]+df['split_components'][df['algorithm']==\"strategic\"].astype(str)"
   ]
  },
  {
   "cell_type": "code",
   "execution_count": 9,
   "metadata": {},
   "outputs": [],
   "source": [
    "df['algorithm'] = df['algorithm'].str.replace(\"bruteforce\", \"Bruteforce\")\n",
    "df['algorithm'] = df['algorithm'].str.replace(\"dp\", \"DP\")\n",
    "df['algorithm'] = df['algorithm'].str.replace(\"non_strategic\", \"Non-Strategic\")\n",
    "df['algorithm'] = df['algorithm'].str.replace(\"strategic_threshold\", \"Threshold\")\n",
    "df['algorithm'] = df['algorithm'].str.replace(\"strategicTrue\", \"Iterative (Optimized)\")\n",
    "df['algorithm'] = df['algorithm'].str.replace(\"strategicFalse\", \"Iterative\")"
   ]
  },
  {
   "cell_type": "code",
   "execution_count": 10,
   "metadata": {},
   "outputs": [
    {
     "data": {
      "text/plain": [
       "array(['Bruteforce', 'DP', 'Iterative', 'Non-Strategic', 'Threshold'],\n",
       "      dtype=object)"
      ]
     },
     "execution_count": 10,
     "metadata": {},
     "output_type": "execute_result"
    }
   ],
   "source": [
    "df['algorithm'].unique()"
   ]
  },
  {
   "cell_type": "markdown",
   "metadata": {},
   "source": [
    "#### Utility plot"
   ]
  },
  {
   "cell_type": "code",
   "execution_count": 12,
   "metadata": {},
   "outputs": [
    {
     "name": "stderr",
     "output_type": "stream",
     "text": [
      "/var/folders/gy/xwt8ngc15hj3w_8vq_bk0yz80000gt/T/ipykernel_92926/1694659297.py:3: SettingWithCopyWarning: \n",
      "A value is trying to be set on a copy of a slice from a DataFrame\n",
      "\n",
      "See the caveats in the documentation: https://pandas.pydata.org/pandas-docs/stable/user_guide/indexing.html#returning-a-view-versus-a-copy\n",
      "  temp_df.sort_values([\"algorithm\"], inplace=True)\n",
      "/var/folders/gy/xwt8ngc15hj3w_8vq_bk0yz80000gt/T/ipykernel_92926/1694659297.py:7: FutureWarning: \n",
      "\n",
      "The `ci` parameter is deprecated. Use `errorbar=('ci', 40)` for the same effect.\n",
      "\n",
      "  g= sns.catplot(x=\"m\", y=\"utility\", hue=\"algorithm\", data=temp_df, kind=\"point\",\n"
     ]
    }
   ],
   "source": [
    "utils.latexify(5,5, font_scale=3.0)\n",
    "temp_df = df[df['kappa']==kappa]\n",
    "temp_df.sort_values([\"algorithm\"], inplace=True)\n",
    "hue_order=[\"Non-Strategic\", \"Threshold\", \"Bruteforce\", \"Iterative\", \"DP\"]\n",
    "linestyles = [linestyles_dict[algo] for algo in hue_order]\n",
    "markers = [markers_dict[algo] for algo in hue_order]\n",
    "g= sns.catplot(x=\"m\", y=\"utility\", hue=\"algorithm\", data=temp_df, kind=\"point\", \n",
    "            aspect=1.6,legend=False,palette=col_dict ,linestyles=linestyles, hue_order=hue_order,\n",
    "           markers=markers,ci=40)\n",
    "plt.setp(g.ax.lines,linewidth=2)\n",
    "axes = plt.gca()\n",
    "y_max = axes.get_ylim()[1]\n",
    "plt.vlines(5.5,0.155, y_max-0.005, linestyle=\"--\")\n",
    "plt.legend(shadow=None, loc='lower right',labelspacing=0.1, handletextpad=0.3)\n",
    "plt.ylabel(\"Utility, $u(\\\\pi , \\\\gamma)$\")\n",
    "plt.xlabel(\"$m$\")\n",
    "plt.ylim(ymin=0.15)\n",
    "axes.yaxis.set_major_formatter(FormatStrFormatter('%.2f'))\n",
    "plt.savefig(\"./figures/optimal/{name}_u_kappa_{kappa}_cost_{cost_method}.pdf\".format(name=name, kappa=str(kappa).replace('.',''), cost_method=cost_method),bbox_inches='tight', )"
   ]
  },
  {
   "cell_type": "markdown",
   "metadata": {},
   "source": [
    "#### Runtime plots"
   ]
  },
  {
   "cell_type": "code",
   "execution_count": 12,
   "metadata": {},
   "outputs": [],
   "source": [
    "utils.latexify(5,5, font_scale=3.0)\n",
    "temp_df = df\n",
    "temp_df.sort_values([\"algorithm\"], inplace=True)\n",
    "hue_order=[\"Threshold\", \"Bruteforce\", \"Iterative\", \"DP\"]\n",
    "linestyles = [linestyles_dict[algo] for algo in hue_order]\n",
    "markers = [markers_dict[algo] for algo in hue_order]\n",
    "g= sns.catplot(x=\"m\", y=\"time\", hue=\"algorithm\", data=temp_df, kind=\"point\", \n",
    "            aspect=1.6,legend=False,palette=col_dict ,linestyles=linestyles, hue_order=hue_order, markers=markers,ci=40)\n",
    "plt.setp(g.ax.lines,linewidth=2)\n",
    "plt.vlines(5.5,0.0001,1000,linestyle=\"--\")\n",
    "plt.legend(shadow=None, loc=4,labelspacing=0.1, handletextpad=0.3)\n",
    "plt.ylabel(\"Time (s)\")\n",
    "plt.xlabel(\"$m$\")\n",
    "plt.yscale(\"log\")\n",
    "plt.savefig(\"./figures/optimal/{name}_t.pdf\".format(name=name),bbox_inches='tight', )"
   ]
  },
  {
   "cell_type": "code",
   "execution_count": 13,
   "metadata": {},
   "outputs": [],
   "source": [
    "utils.latexify(5,5, font_scale=3.0,)\n",
    "new_col_dict = {0.10: cols[6],\n",
    "            0.25: cols[7],\n",
    "            0.5: cols[8]\n",
    "           }\n",
    "temp_df=df[df['algorithm']=='DP']\n",
    "g= sns.catplot(x=\"m\", y=\"iterations\", hue=\"kappa\", data=temp_df, kind=\"point\", \n",
    "            aspect=1.6,legend=False,palette=new_col_dict ,linestyles=[\"-.\", \":\",\"-\"], hue_order=[0.1,0.25,0.5], markers=[\"o\", \"s\", \"D\"],ci=40,scale=1)\n",
    "plt.setp(g.ax.lines,linewidth=2)\n",
    "lw = g.ax.lines[0].get_linewidth()\n",
    "plt.setp(g.ax.lines,linewidth=3)\n",
    "plt.vlines(5.5,1,3,linestyle=\"--\")\n",
    "plt.legend(shadow=None, loc=\"lower right\",labelspacing=0.1, handletextpad=0.3, bbox_to_anchor=(1.05,0.09))\n",
    "L=plt.legend()\n",
    "L.get_texts()[0].set_text(\"$\\\\kappa = 0.1$\")\n",
    "L.get_texts()[1].set_text(\"$\\\\kappa = 0.25$\")\n",
    "L.get_texts()[2].set_text(\"$\\\\kappa = 0.5$\")\n",
    "plt.yticks([1,2,3])\n",
    "plt.ylabel(\"\\\\# rounds\")\n",
    "plt.xlabel(\"$m$\")\n",
    "plt.savefig(\"./figures/optimal/{name}_iteration_dp_kappa.pdf\".format(name=name),bbox_inches='tight', )"
   ]
  },
  {
   "cell_type": "code",
   "execution_count": 14,
   "metadata": {},
   "outputs": [],
   "source": [
    "utils.latexify(5,5, font_scale=3.0,)\n",
    "new_col_dict = {0.10: cols[6],\n",
    "            0.25: cols[7],\n",
    "            0.5: cols[8]\n",
    "           }\n",
    "temp_df=df[df['algorithm']=='Iterative']\n",
    "g= sns.catplot(x=\"m\", y=\"iterations\", hue=\"kappa\", data=temp_df, kind=\"point\", \n",
    "            aspect=1.6,legend=False,palette=new_col_dict ,linestyles=[\"-.\", \":\",\"-\"], hue_order=[0.1,0.25,0.5], markers=[\"o\", \"s\", \"D\"],ci=40,scale=1)\n",
    "plt.setp(g.ax.lines,linewidth=2)\n",
    "lw = g.ax.lines[0].get_linewidth() # lw of first line\n",
    "plt.setp(g.ax.lines,linewidth=3)\n",
    "plt.vlines(5.5,0.2,4.8,linestyle=\"--\")\n",
    "plt.legend(shadow=None, loc=\"lower right\",labelspacing=0.1, handletextpad=0.3, bbox_to_anchor=(1.05,0.09))\n",
    "L=plt.legend()\n",
    "L.get_texts()[0].set_text(\"$\\\\kappa = 0.1$\")\n",
    "L.get_texts()[1].set_text(\"$\\\\kappa = 0.25$\")\n",
    "L.get_texts()[2].set_text(\"$\\\\kappa = 0.5$\")\n",
    "plt.yticks([1,2,3,4,5])\n",
    "plt.ylim(0.8,5)\n",
    "plt.ylabel(\"\\\\# iterations\")\n",
    "plt.xlabel(\"$m$\")\n",
    "plt.savefig(\"./figures/optimal/{name}_iteration_iterative_kappa.pdf\".format(name=name),bbox_inches='tight', )"
   ]
  }
 ],
 "metadata": {
  "kernelspec": {
   "display_name": "Python 3.9.1 ('env': venv)",
   "language": "python",
   "name": "python3"
  },
  "language_info": {
   "codemirror_mode": {
    "name": "ipython",
    "version": 3
   },
   "file_extension": ".py",
   "mimetype": "text/x-python",
   "name": "python",
   "nbconvert_exporter": "python",
   "pygments_lexer": "ipython3",
   "version": "3.9.1"
  },
  "vscode": {
   "interpreter": {
    "hash": "0ddb0c2da25db7768b0241d542d21cb35172a6678fcb32e19d61594f5477b3c6"
   }
  }
 },
 "nbformat": 4,
 "nbformat_minor": 2
}
