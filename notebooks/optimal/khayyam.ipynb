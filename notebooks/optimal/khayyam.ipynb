{
 "cells": [
  {
   "cell_type": "markdown",
   "metadata": {},
   "source": [
    "# Algorithm performance and running time comparison on synthetic data (Figures EC.2, EC.6, EC.7)\n",
    "\n",
    "In this notebook we produce plots to compare the performance of the algorithms presented in the paper in terms of utility for instances with general costs. The resulting plots are presented in Figures EC.2, EC.6 & EC.7 of the Electronic Companion.\n",
    "\n",
    "**Required script execution:** khayyam.sh"
   ]
  },
  {
   "cell_type": "code",
   "execution_count": 1,
   "metadata": {},
   "outputs": [],
   "source": [
    "import os\n",
    "os.chdir(\"../\")"
   ]
  },
  {
   "cell_type": "code",
   "execution_count": 2,
   "metadata": {},
   "outputs": [],
   "source": [
    "import pandas as pd\n",
    "import numpy as np\n",
    "import matplotlib.pyplot as plt\n",
    "import seaborn as sns\n",
    "import glob\n",
    "import json\n",
    "from lib import utils\n",
    "sns.set_context(\"paper\", font_scale=4)"
   ]
  },
  {
   "cell_type": "markdown",
   "metadata": {},
   "source": [
    "Here, set the value of $\\kappa$ (choose from \\{$0.25$, $0.5$, $0.75$\\}) and the type of cost function (choose from \\{uniform, exponential\\})."
   ]
  },
  {
   "cell_type": "code",
   "execution_count": 3,
   "metadata": {},
   "outputs": [],
   "source": [
    "name=\"khayyam\"\n",
    "cost_method=\"uniform\"\n",
    "kappa=0.25\n",
    "final_df = []\n",
    "cols = sns.color_palette(\"Set2\",9)\n",
    "col_dict = {\"Non-Strategic\": cols[0],\n",
    "            \"Bruteforce\": cols[1],\n",
    "            \"Threshold\": cols[2],\n",
    "            \"Iterative\": cols[3],\n",
    "            \"DP\": cols[5]\n",
    "           }\n",
    "linestyles_dict = {\"Non-Strategic\": \"-.\",\n",
    "            \"Bruteforce\": \"-\",\n",
    "            \"Threshold\": \"-\",\n",
    "            \"Iterative\": \"--\",\n",
    "            \"DP\": \":\"\n",
    "           }\n",
    "markers_dict = {\"Non-Strategic\": \"v\",\n",
    "            \"Bruteforce\": \"s\",\n",
    "            \"Threshold\": \"^\",\n",
    "            \"Iterative\": \"o\",\n",
    "            \"DP\": \"D\"\n",
    "           }"
   ]
  },
  {
   "cell_type": "code",
   "execution_count": 4,
   "metadata": {},
   "outputs": [],
   "source": [
    "files = glob.glob(\"./outputs/optimal/{name}_bruteforce_cost_{cost_method}_*_kappa_{kappa}_*_config.json\".format(name=name, cost_method=cost_method, kappa=kappa))\n",
    "data = []\n",
    "\n",
    "for fi in files:\n",
    "    with open(fi,\"r\") as file:\n",
    "        data.append(json.load(file))\n",
    "df_standard = pd.DataFrame(data)\n",
    "final_df.append(df_standard.melt(id_vars=[\"m\", \"seed\", \"kappa\", \"sparsity\", \"time\", \"pi\", \"bruteforce_br\"], var_name=\"algorithm\", value_name=\"utility\"))"
   ]
  },
  {
   "cell_type": "code",
   "execution_count": 5,
   "metadata": {},
   "outputs": [],
   "source": [
    "files = glob.glob(\"./outputs/optimal/{name}_thres_cost_{cost_method}_*_kappa_{kappa}_*_config.json\".format(name=name, cost_method=cost_method, kappa=kappa))\n",
    "data = []\n",
    "\n",
    "for fi in files:\n",
    "    with open(fi,\"r\") as file:\n",
    "        data.append(json.load(file))\n",
    "df_standard = pd.DataFrame(data)\n",
    "final_df.append(df_standard.melt(id_vars=[\"m\", \"seed\", \"kappa\", \"sparsity\", \"time\", \"pi\", \"strategic_threshold_br\"], var_name=\"algorithm\", value_name=\"utility\"))"
   ]
  },
  {
   "cell_type": "code",
   "execution_count": 6,
   "metadata": {},
   "outputs": [],
   "source": [
    "files = glob.glob(\"./outputs/optimal/{name}_iterative_cost_{cost_method}_*_kappa_{kappa}_*_config.json\".format(name=name, cost_method=cost_method, kappa=kappa))\n",
    "data = []\n",
    "\n",
    "for fi in files:\n",
    "    with open(fi,\"r\") as file:\n",
    "        data.append(json.load(file))\n",
    "df_standard = pd.DataFrame(data)\n",
    "final_df.append(df_standard.melt(id_vars=[\"m\", \"seed\", \"kappa\", \"sparsity\", \"time\", \"parallel\", \"split_components\", \"iterations\", \"pi\", \"strategic_br\", \"pi_non_strategic\", \"non_strategic_br\", \"strategic_deter_br\", \"pi_strategic_deter\", \"strategic_deter\"], var_name=\"algorithm\", value_name=\"utility\"))"
   ]
  },
  {
   "cell_type": "code",
   "execution_count": 7,
   "metadata": {},
   "outputs": [
    {
     "name": "stderr",
     "output_type": "stream",
     "text": [
      "/var/folders/gy/xwt8ngc15hj3w_8vq_bk0yz80000gt/T/ipykernel_93946/2958989433.py:2: SettingWithCopyWarning: \n",
      "A value is trying to be set on a copy of a slice from a DataFrame\n",
      "\n",
      "See the caveats in the documentation: https://pandas.pydata.org/pandas-docs/stable/user_guide/indexing.html#returning-a-view-versus-a-copy\n",
      "  df['algorithm'][df['algorithm']==\"strategic\"] = df['algorithm'][df['algorithm']==\"strategic\"]+df['parallel'][df['algorithm']==\"strategic\"].astype(str)\n",
      "/var/folders/gy/xwt8ngc15hj3w_8vq_bk0yz80000gt/T/ipykernel_93946/2958989433.py:2: SettingWithCopyWarning: \n",
      "A value is trying to be set on a copy of a slice from a DataFrame\n",
      "\n",
      "See the caveats in the documentation: https://pandas.pydata.org/pandas-docs/stable/user_guide/indexing.html#returning-a-view-versus-a-copy\n",
      "  df['algorithm'][df['algorithm']==\"strategic\"] = df['algorithm'][df['algorithm']==\"strategic\"]+df['parallel'][df['algorithm']==\"strategic\"].astype(str)\n"
     ]
    }
   ],
   "source": [
    "df = pd.concat(final_df)\n",
    "df['algorithm'][df['algorithm']==\"strategic\"] = df['algorithm'][df['algorithm']==\"strategic\"]+df['parallel'][df['algorithm']==\"strategic\"].astype(str)"
   ]
  },
  {
   "cell_type": "code",
   "execution_count": 8,
   "metadata": {},
   "outputs": [
    {
     "data": {
      "text/plain": [
       "array(['bruteforce', 'strategic_threshold', 'strategicFalse',\n",
       "       'non_strategic'], dtype=object)"
      ]
     },
     "execution_count": 8,
     "metadata": {},
     "output_type": "execute_result"
    }
   ],
   "source": [
    "df['algorithm'].unique()"
   ]
  },
  {
   "cell_type": "code",
   "execution_count": 9,
   "metadata": {},
   "outputs": [],
   "source": [
    "df['algorithm'] = df['algorithm'].str.replace(\"bruteforce\", \"Bruteforce\")\n",
    "df['algorithm'] = df['algorithm'].str.replace(\"non_strategic\", \"Non-Strategic\")\n",
    "df['algorithm'] = df['algorithm'].str.replace(\"strategic_threshold\", \"Threshold\")\n",
    "df['algorithm'] = df['algorithm'].str.replace(\"strategicTrue\", \"Parallel\")\n",
    "df['algorithm'] = df['algorithm'].str.replace(\"strategicFalse\", \"Iterative\")"
   ]
  },
  {
   "cell_type": "code",
   "execution_count": 10,
   "metadata": {},
   "outputs": [
    {
     "name": "stderr",
     "output_type": "stream",
     "text": [
      "/var/folders/gy/xwt8ngc15hj3w_8vq_bk0yz80000gt/T/ipykernel_93946/4227176900.py:8: FutureWarning: \n",
      "\n",
      "The `ci` parameter is deprecated. Use `errorbar=('ci', 40)` for the same effect.\n",
      "\n",
      "  g = sns.catplot(x=\"m\", y=\"utility\", hue=\"algorithm\", data=temp_df, kind=\"point\", hue_order=hue_order,\n"
     ]
    }
   ],
   "source": [
    "utils.latexify(5,5, font_scale=3)\n",
    "temp_df = df\n",
    "temp_df.sort_values([\"algorithm\"], inplace=True)\n",
    "hue_order=[\"Non-Strategic\", \"Threshold\", \"Bruteforce\", \"Iterative\"]\n",
    "# hue_order=[\"Non-Strategic\", \"Threshold\", \"Bruteforce\", \"Iterative\", \"Parallel\"]\n",
    "linestyles = [linestyles_dict[algo] for algo in hue_order]\n",
    "markers = [markers_dict[algo] for algo in hue_order]\n",
    "g = sns.catplot(x=\"m\", y=\"utility\", hue=\"algorithm\", data=temp_df, kind=\"point\", hue_order=hue_order,\n",
    "            aspect=1.6,legend=False,palette=col_dict ,linestyles=linestyles,\n",
    "           markers=markers,ci=40)\n",
    "plt.setp(g.ax.lines,linewidth=2)\n",
    "axes = plt.gca()\n",
    "y_max = axes.get_ylim()[1]\n",
    "plt.vlines(5.5,0.02,y_max-0.005,linestyle=\"--\")\n",
    "plt.legend(shadow=None, loc=4,labelspacing=0.1, handletextpad=0.3)\n",
    "plt.ylabel(\"Utility, $u(\\\\pi, \\\\gamma)$\")\n",
    "plt.xlabel(\"$m$\")\n",
    "plt.ylim(ymin=0)\n",
    "plt.savefig(\"./figures/optimal/{name}_u_cost_{cost_method}_kappa_{kappa}.pdf\".format(name=name, cost_method=cost_method, kappa=str(kappa).replace('.','')),bbox_inches='tight', )"
   ]
  },
  {
   "cell_type": "code",
   "execution_count": null,
   "metadata": {},
   "outputs": [],
   "source": []
  }
 ],
 "metadata": {
  "kernelspec": {
   "display_name": "Python 3.9.1 ('env': venv)",
   "language": "python",
   "name": "python3"
  },
  "language_info": {
   "codemirror_mode": {
    "name": "ipython",
    "version": 3
   },
   "file_extension": ".py",
   "mimetype": "text/x-python",
   "name": "python",
   "nbconvert_exporter": "python",
   "pygments_lexer": "ipython3",
   "version": "3.10.6"
  },
  "vscode": {
   "interpreter": {
    "hash": "0ddb0c2da25db7768b0241d542d21cb35172a6678fcb32e19d61594f5477b3c6"
   }
  }
 },
 "nbformat": 4,
 "nbformat_minor": 2
}
