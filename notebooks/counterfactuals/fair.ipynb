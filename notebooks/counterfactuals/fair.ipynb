{
 "cells": [
  {
   "cell_type": "markdown",
   "metadata": {},
   "source": [
    "# Experiments under matroid constraint\n",
    "\n",
    "Results are produced by executing script **fair.sh** and they are presented in Figure 3."
   ]
  },
  {
   "cell_type": "code",
   "execution_count": 1,
   "metadata": {},
   "outputs": [],
   "source": [
    "import os\n",
    "os.chdir(\"../../\")"
   ]
  },
  {
   "cell_type": "code",
   "execution_count": 2,
   "metadata": {},
   "outputs": [],
   "source": [
    "import pandas as pd\n",
    "import numpy as np\n",
    "import matplotlib.pyplot as plt\n",
    "plt.style.use('default')\n",
    "import seaborn as sns\n",
    "import glob\n",
    "import json\n",
    "from lib import utils\n",
    "from mpl_toolkits.axes_grid1.inset_locator import zoomed_inset_axes\n",
    "from mpl_toolkits.axes_grid1.inset_locator import mark_inset\n",
    "sns.set_context(\"paper\", font_scale=4)"
   ]
  },
  {
   "cell_type": "code",
   "execution_count": 3,
   "metadata": {},
   "outputs": [],
   "source": [
    "name=\"fair\"\n",
    "datas=\"credit\"\n",
    "k=32\n",
    "gamma=0.8580724846537919\n",
    "\n",
    "final_df = []\n",
    "cols = sns.color_palette(\"husl\",n_colors=3)"
   ]
  },
  {
   "cell_type": "code",
   "execution_count": 4,
   "metadata": {},
   "outputs": [],
   "source": [
    "# Read data\n",
    "vecs = pd.read_csv('data/processed/'+datas+'_vectors.csv', index_col=0, header=0)\n",
    "px = pd.read_csv('data/processed/'+datas+'_px.csv', index_col=0, header=0)\n",
    "u = pd.read_csv('data/processed/'+datas+'_pyx.csv', index_col=0, names=[\"ID\", \"Probability\"], header=0, dtype={'Probability': np.float})"
   ]
  },
  {
   "cell_type": "markdown",
   "metadata": {},
   "source": [
    "Compute the rejected population per age group by the optimal threshold policy in the non-strategic setting."
   ]
  },
  {
   "cell_type": "code",
   "execution_count": 5,
   "metadata": {},
   "outputs": [],
   "source": [
    "rejected_pop=[]\n",
    "for age in range(4):\n",
    "    indexes = vecs[(vecs['Age group']==age) & (u['Probability']<gamma)].index\n",
    "    pop = 0\n",
    "    for i in indexes:\n",
    "        pop += px.loc[i]['Population']\n",
    "    rejected_pop.append(pop)"
   ]
  },
  {
   "cell_type": "code",
   "execution_count": 6,
   "metadata": {},
   "outputs": [
    {
     "data": {
      "image/png": "[encoded data removed]",
      "text/plain": [
       "<Figure size 633.6x396 with 1 Axes>"
      ]
     },
     "metadata": {},
     "output_type": "display_data"
    }
   ],
   "source": [
    "utils.latexify(8.8,5.5, font_scale=3.0)\n",
    "\n",
    "labels = ['Under 25','25 - 39','40 - 59','Over 59']\n",
    "x = np.arange(len(labels))\n",
    "width = 0.3\n",
    "\n",
    "fig, ax = plt.subplots()\n",
    "rects1 = ax.bar(x, rejected_pop, width, label='Greedy', color=cols[2])\n",
    "\n",
    "ax.set_ylabel('Population')\n",
    "ax.set_xticks(x)\n",
    "ax.set_xticklabels(labels)\n",
    "ax.set_xlabel('Age group')\n",
    "ax.spines['top'].set_visible(False)\n",
    "ax.spines['right'].set_visible(False)\n",
    "\n",
    "plt.savefig(\"./figures/counterfactuals/fair_population.pdf\", bbox_inches='tight', )"
   ]
  },
  {
   "cell_type": "code",
   "execution_count": 7,
   "metadata": {},
   "outputs": [],
   "source": [
    "# Read best-responses\n",
    "br_det_files = glob.glob(\"./outputs/counterfactuals/{name}_greedydet_data_{datas}_k_{k}_a_2_*_config.json\".format(name=name, datas=datas, k=k))\n",
    "br_fair_files = glob.glob(\"./outputs/counterfactuals/{name}_greedyfair_data_{datas}_k_{k}_a_2_*_config.json\".format(name=name, datas=datas, k=k))\n",
    "for fi in br_det_files:\n",
    "    with open(fi,\"r\") as file:\n",
    "        temp = json.load(file)\n",
    "        det_best_responses = temp['best_responses']\n",
    "        \n",
    "for fi in br_fair_files:\n",
    "    with open(fi,\"r\") as file:\n",
    "        temp = json.load(file)\n",
    "        fair_best_responses = temp['best_responses']"
   ]
  },
  {
   "cell_type": "markdown",
   "metadata": {},
   "source": [
    "Find the number of explanations per age group under a cardinality and a matroid constraint."
   ]
  },
  {
   "cell_type": "code",
   "execution_count": 8,
   "metadata": {},
   "outputs": [],
   "source": [
    "det_changed = {k:v for k,v in det_best_responses.items() if int(k)!=int(v)}\n",
    "det_effective_solution_set = np.unique(np.array([v for k,v in det_changed.items()]))\n",
    "\n",
    "fair_changed = {k:v for k,v in fair_best_responses.items() if int(k)!=int(v)}\n",
    "fair_effective_solution_set = np.unique(np.array([v for k,v in fair_changed.items()]))"
   ]
  },
  {
   "cell_type": "code",
   "execution_count": 9,
   "metadata": {},
   "outputs": [],
   "source": [
    "det_ex_dist = np.zeros(4)\n",
    "for ex in det_effective_solution_set:\n",
    "    det_ex_dist[int(vecs.loc[ex]['Age group'])]+=1\n",
    "    \n",
    "fair_ex_dist = np.zeros(4)\n",
    "for ex in fair_effective_solution_set:\n",
    "    fair_ex_dist[int(vecs.loc[ex]['Age group'])]+=1"
   ]
  },
  {
   "cell_type": "code",
   "execution_count": 10,
   "metadata": {
    "scrolled": false
   },
   "outputs": [
    {
     "data": {
      "image/png": "[encoded data removed]",
      "text/plain": [
       "<Figure size 633.6x396 with 1 Axes>"
      ]
     },
     "metadata": {},
     "output_type": "display_data"
    }
   ],
   "source": [
    "utils.latexify(8.8,5.5, font_scale=3.0)\n",
    "\n",
    "labels = ['Under 25','25 - 39','40 - 59','Over 59']\n",
    "x = np.arange(len(labels))\n",
    "width = 0.3\n",
    "\n",
    "fig, ax = plt.subplots()\n",
    "rects1 = ax.bar(x - width/2, det_ex_dist, width, label='Cardinality', color=cols[0])\n",
    "rects2 = ax.bar(x + width/2, fair_ex_dist, width, label='Matroid', color=cols[1])\n",
    "\n",
    "ax.set_ylabel('Explanations')\n",
    "ax.set_xticks(x)\n",
    "ax.set_yticks([4, 8, 12, 16])\n",
    "ax.set_xticklabels(labels)\n",
    "ax.set_xlabel('Age group')\n",
    "ax.legend()\n",
    "ax.spines['top'].set_visible(False)\n",
    "ax.spines['right'].set_visible(False)\n",
    "\n",
    "plt.savefig(\"./figures/counterfactuals/fair_explanations_set.pdf\",bbox_inches='tight', )"
   ]
  },
  {
   "cell_type": "markdown",
   "metadata": {},
   "source": [
    "Compute the relative improvement of each age group."
   ]
  },
  {
   "cell_type": "code",
   "execution_count": 11,
   "metadata": {},
   "outputs": [],
   "source": [
    "det_improv = np.zeros(4)\n",
    "fair_improv = np.zeros(4)\n",
    "\n",
    "for sour, tar in det_changed.items():\n",
    "    s=int(sour)\n",
    "    t=int(tar)\n",
    "    age_group = int(vecs.loc[s]['Age group'])\n",
    "    det_improv[age_group]+=px.loc[s]['Population']*(u.loc[t]['Probability']-u.loc[s]['Probability'])\n",
    "    \n",
    "det_improv = np.divide(det_improv, rejected_pop)\n",
    "\n",
    "for sour, tar in fair_changed.items():\n",
    "    s=int(sour)\n",
    "    t=int(tar)\n",
    "    age_group = int(vecs.loc[s]['Age group'])\n",
    "    fair_improv[age_group]+=px.loc[s]['Population']*(u.loc[t]['Probability']-u.loc[s]['Probability'])\n",
    "\n",
    "fair_improv = np.divide(fair_improv, rejected_pop)"
   ]
  },
  {
   "cell_type": "code",
   "execution_count": 12,
   "metadata": {},
   "outputs": [
    {
     "data": {
      "image/png": "[encoded data removed]",
      "text/plain": [
       "<Figure size 633.6x396 with 1 Axes>"
      ]
     },
     "metadata": {},
     "output_type": "display_data"
    }
   ],
   "source": [
    "utils.latexify(8.8,5.5, font_scale=3.0)\n",
    "\n",
    "labels = ['Under 25','25 - 39','40 - 59','Over 59']\n",
    "x = np.arange(len(labels))\n",
    "width = 0.3\n",
    "\n",
    "fig, ax = plt.subplots()\n",
    "rects1 = ax.bar(x - width/2, det_improv, width, label='Cardinality', color=cols[0])\n",
    "rects2 = ax.bar(x + width/2, fair_improv, width, label='Matroid', color=cols[1])\n",
    "\n",
    "ax.set_ylabel('Relative improvement')\n",
    "ax.set_xticks(x)\n",
    "ax.set_xticklabels(labels)\n",
    "ax.set_xlabel('Age group')\n",
    "ax.legend()\n",
    "ax.spines['top'].set_visible(False)\n",
    "ax.spines['right'].set_visible(False)\n",
    "\n",
    "plt.savefig(\"./figures/counterfactuals/fair_improvement.pdf\",bbox_inches='tight', )"
   ]
  },
  {
   "cell_type": "code",
   "execution_count": null,
   "metadata": {},
   "outputs": [],
   "source": []
  }
 ],
 "metadata": {
  "kernelspec": {
   "display_name": "Python 3",
   "language": "python",
   "name": "python3"
  },
  "language_info": {
   "codemirror_mode": {
    "name": "ipython",
    "version": 3
   },
   "file_extension": ".py",
   "mimetype": "text/x-python",
   "name": "python",
   "nbconvert_exporter": "python",
   "pygments_lexer": "ipython3",
   "version": "3.7.7"
  }
 },
 "nbformat": 4,
 "nbformat_minor": 2
}