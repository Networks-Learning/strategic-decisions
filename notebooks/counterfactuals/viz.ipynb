{
 "cells": [
  {
   "cell_type": "markdown",
   "metadata": {},
   "source": [
    "# Transportation of mass and real counterfactual explanations\n",
    "\n",
    "Results are produced by executing script **real.sh** and they are presented in Figure 7 and Table 2."
   ]
  },
  {
   "cell_type": "code",
   "execution_count": 1,
   "metadata": {},
   "outputs": [],
   "source": [
    "import os\n",
    "os.chdir(\"../../\")"
   ]
  },
  {
   "cell_type": "code",
   "execution_count": 2,
   "metadata": {},
   "outputs": [],
   "source": [
    "import pandas as pd\n",
    "import numpy as np\n",
    "import matplotlib.pyplot as plt\n",
    "plt.style.use('default')\n",
    "import seaborn as sns\n",
    "import glob\n",
    "import json\n",
    "from lib import utils\n",
    "from mpl_toolkits.axes_grid1.inset_locator import zoomed_inset_axes\n",
    "from mpl_toolkits.axes_grid1.inset_locator import mark_inset\n",
    "sns.set_context(\"paper\", font_scale=4)"
   ]
  },
  {
   "cell_type": "markdown",
   "metadata": {},
   "source": [
    "Set the variable *datas* to credit to plot the results for the *credit* dataset or *fico* for the *lending* dataset.\n",
    "Set the variabl *k* to 160 for the *credit* dataset and 20 for the *lending* dataset.\n",
    "Set *gamma* to 0.8580724846537919 for the *credit* dataset and 0.9746666325676951 for the *lending* dataset."
   ]
  },
  {
   "cell_type": "code",
   "execution_count": 3,
   "metadata": {},
   "outputs": [],
   "source": [
    "name=\"real\"\n",
    "datas=\"fico\"\n",
    "k=20\n",
    "gamma=0.9746666325676951\n",
    "final_df = []\n",
    "cols = sns.color_palette(\"husl\",n_colors=5)"
   ]
  },
  {
   "cell_type": "code",
   "execution_count": 4,
   "metadata": {},
   "outputs": [],
   "source": [
    "# Read data\n",
    "px = pd.read_csv('data/processed/'+datas+'_px.csv', index_col=0, header=0)\n",
    "u = pd.read_csv('data/processed/'+datas+'_pyx.csv', index_col=0, names=[\"ID\", \"Probability\"], header=0, dtype={'Probability': np.float})\n",
    "vecs = pd.read_csv('data/processed/'+datas+'_vectors.csv', index_col=0, header=0)"
   ]
  },
  {
   "cell_type": "markdown",
   "metadata": {},
   "source": [
    "For each feature value, compute the percentage of population with lower $P(y | x)$ values."
   ]
  },
  {
   "cell_type": "code",
   "execution_count": 5,
   "metadata": {},
   "outputs": [],
   "source": [
    "merged = pd.merge(px, u, left_index=True, right_index=True)\n",
    "merged = merged.sort_values(by=['Probability'])\n",
    "merged['Population']= merged['Population'].cumsum()-merged['Population']"
   ]
  },
  {
   "cell_type": "markdown",
   "metadata": {},
   "source": [
    "Split the feature values in 10 classes depending on their $P(y|x)$ percentile."
   ]
  },
  {
   "cell_type": "code",
   "execution_count": 6,
   "metadata": {},
   "outputs": [],
   "source": [
    "limits=[0]\n",
    "for per in np.arange(0.1, 1.0, 0.1):\n",
    "    limits.append(merged['Probability'].loc[(merged['Population']>=per).idxmax()])\n",
    "\n",
    "limits.append(1)"
   ]
  },
  {
   "cell_type": "code",
   "execution_count": 7,
   "metadata": {},
   "outputs": [],
   "source": [
    "util_class = np.zeros(u.size, dtype=int)\n",
    "for ind,lower in enumerate(limits[:-1]):\n",
    "    indexes=u[(u['Probability']>=limits[ind]) & (u['Probability']<limits[ind+1])].index\n",
    "    for i in indexes:\n",
    "        util_class[i]=ind\n",
    "\n",
    "u['Class']=list(util_class)"
   ]
  },
  {
   "cell_type": "markdown",
   "metadata": {},
   "source": [
    "Plot transportation of mass for Algorithm 1."
   ]
  },
  {
   "cell_type": "code",
   "execution_count": 8,
   "metadata": {},
   "outputs": [],
   "source": [
    "# Read best-responses (det)\n",
    "files = glob.glob(\"./outputs/counterfactuals/{name}_greedydet_data_{datas}_k_{k}_a_2_*_config.json\".format(name=name, datas=datas, k=k))\n",
    "matrices = []\n",
    "for fi in files:\n",
    "    with open(fi,\"r\") as file:\n",
    "        temp = json.load(file)\n",
    "        best_responses = temp['best_responses']\n",
    "\n",
    "        changed = {k:v for k,v in best_responses.items() if int(k)!=int(v)}\n",
    "        effective_solution_set = np.unique(np.array([v for k,v in changed.items()]))\n",
    "        movement_matrix = np.zeros((10, 10))\n",
    "        for s, t in changed.items():\n",
    "            source = int(s)\n",
    "            target = int(t)\n",
    "            movement_matrix[int(u.loc[source]['Class']),int(u.loc[target]['Class'])] += px.loc[source]['Population']\n",
    "        matrices.append(movement_matrix)\n",
    "\n",
    "matrices = np.array(matrices)\n",
    "det_movement_matrix = np.mean(matrices,axis=0)"
   ]
  },
  {
   "cell_type": "code",
   "execution_count": 9,
   "metadata": {},
   "outputs": [
    {
     "data": {
      "image/png": "[encoded data removed]",
      "text/plain": [
       "<Figure size 633.6x396 with 2 Axes>"
      ]
     },
     "metadata": {},
     "output_type": "display_data"
    }
   ],
   "source": [
    "utils.latexify(8.8,5.5, font_scale=3.0)\n",
    "my_cmap = sns.cubehelix_palette(light=0.97, dark=0.3, as_cmap=True)\n",
    "plt.imshow(det_movement_matrix, cmap=my_cmap)\n",
    "lab = range(0,10,2)\n",
    "plt.xticks(ticks=lab,labels=[str(np.around(limits[l+1],3)) for l in lab])\n",
    "plt.yticks(ticks=lab,labels=[str(np.around(limits[l+1],3)) for l in lab])\n",
    "plt.xlabel('Final '+r'$P(y=1\\,|\\,\\bm{x})$')\n",
    "plt.ylabel('Initial '+r'$P(y=1\\,|\\,\\bm{x})$')\n",
    "plt.colorbar()\n",
    "\n",
    "plt.savefig(\"./figures/counterfactuals/movement_det_{datas}.pdf\".format(datas=datas),bbox_inches='tight', )"
   ]
  },
  {
   "cell_type": "markdown",
   "metadata": {},
   "source": [
    "Plot transportation of mass for Algorithm 2."
   ]
  },
  {
   "cell_type": "code",
   "execution_count": 10,
   "metadata": {},
   "outputs": [],
   "source": [
    "# Read best-responses (rand)\n",
    "files = glob.glob(\"./outputs/counterfactuals/{name}_greedyrand_data_{datas}_k_{k}_a_2_*_config.json\".format(name=name, datas=datas, k=k))\n",
    "matrices = []\n",
    "for fi in files:\n",
    "    with open(fi,\"r\") as file:\n",
    "        temp = json.load(file)\n",
    "        best_responses = temp['best_responses']\n",
    "\n",
    "        changed = {k:v for k,v in best_responses.items() if int(k)!=int(v)}\n",
    "        effective_solution_set = np.unique(np.array([v for k,v in changed.items()]))\n",
    "        movement_matrix = np.zeros((10, 10))\n",
    "        for s, t in changed.items():\n",
    "            source = int(s)\n",
    "            target = int(t)\n",
    "            movement_matrix[int(u.loc[source]['Class']),int(u.loc[target]['Class'])] += px.loc[source]['Population']\n",
    "        matrices.append(movement_matrix)\n",
    "\n",
    "matrices = np.array(matrices)\n",
    "rand_movement_matrix = np.mean(matrices,axis=0)"
   ]
  },
  {
   "cell_type": "code",
   "execution_count": 11,
   "metadata": {},
   "outputs": [
    {
     "data": {
      "image/png": "[encoded data removed]",
      "text/plain": [
       "<Figure size 633.6x396 with 2 Axes>"
      ]
     },
     "metadata": {},
     "output_type": "display_data"
    }
   ],
   "source": [
    "utils.latexify(8.8,5.5, font_scale=3.0)\n",
    "my_cmap = sns.cubehelix_palette(light=0.97, dark=0.3, as_cmap=True)\n",
    "plt.imshow(rand_movement_matrix, cmap=my_cmap)\n",
    "lab = range(0,10,2)\n",
    "plt.xticks(ticks=lab,labels=[str(np.around(limits[l+1],3)) for l in lab])\n",
    "plt.yticks(ticks=lab,labels=[str(np.around(limits[l+1],3)) for l in lab])\n",
    "plt.xlabel('Final '+r'$P(y=1\\,|\\,\\bm{x})$')\n",
    "plt.ylabel('Initial '+r'$P(y=1\\,|\\,\\bm{x})$')\n",
    "plt.colorbar()\n",
    "\n",
    "plt.savefig(\"./figures/counterfactuals/movement_rand_{datas}.pdf\".format(datas=datas),bbox_inches='tight', )"
   ]
  },
  {
   "cell_type": "markdown",
   "metadata": {},
   "source": [
    "Counterfactual explanation comparison between explanations of Minimum cost and Algorithm 1. "
   ]
  },
  {
   "cell_type": "code",
   "execution_count": null,
   "metadata": {},
   "outputs": [],
   "source": [
    "files = glob.glob(\"./outputs/counterfactuals/{name}_mincost_data_{datas}_k_{k}_a_2_*_config.json\".format(name=name, datas=datas, k=k))\n",
    "for fi in files:\n",
    "    with open(fi,\"r\") as file:\n",
    "        temp = json.load(file)\n",
    "        best_responses = temp['best_responses']\n",
    "        changed_min = {k:v for k,v in best_responses.items() if int(k)!=int(v)}\n",
    "        \n",
    "files = glob.glob(\"./outputs/counterfactuals/{name}_greedydet_data_{datas}_k_{k}_a_2_*_config.json\".format(name=name, datas=datas, k=k))\n",
    "for fi in files:\n",
    "    with open(fi,\"r\") as file:\n",
    "        temp = json.load(file)\n",
    "        best_responses = temp['best_responses']\n",
    "        changed_opt = {k:v for k,v in best_responses.items() if int(k)!=int(v)}"
   ]
  },
  {
   "cell_type": "code",
   "execution_count": null,
   "metadata": {},
   "outputs": [],
   "source": [
    "comparison = {k:(v1,changed_opt[k]) for k,v1 in changed_min.items() if ((k in changed_opt) and (changed_opt[k]!=v1))}"
   ]
  },
  {
   "cell_type": "code",
   "execution_count": null,
   "metadata": {
    "scrolled": false
   },
   "outputs": [],
   "source": [
    "# rand_key = int(np.random.choice(list(comparison.keys())))\n",
    "rand_key = 209 # used in the paper\n",
    "print(rand_key)\n",
    "print('****Current****')\n",
    "print('****Probability = {pyx}****'.format(pyx=u.loc[rand_key]['Probability']))\n",
    "print(vecs.loc[rand_key])\n",
    "print('****Minimum****')\n",
    "print('****Probability = {pyx}****'.format(pyx=u.loc[comparison[str(rand_key)][0]]['Probability']))\n",
    "print(vecs.loc[comparison[str(rand_key)][0]])\n",
    "print('****Optimal****')\n",
    "print('****Probability = {pyx}****'.format(pyx=u.loc[comparison[str(rand_key)][1]]['Probability']))\n",
    "print(vecs.loc[comparison[str(rand_key)][1]])"
   ]
  },
  {
   "cell_type": "code",
   "execution_count": null,
   "metadata": {},
   "outputs": [],
   "source": []
  }
 ],
 "metadata": {
  "kernelspec": {
   "display_name": "Python 3",
   "language": "python",
   "name": "python3"
  },
  "language_info": {
   "codemirror_mode": {
    "name": "ipython",
    "version": 3
   },
   "file_extension": ".py",
   "mimetype": "text/x-python",
   "name": "python",
   "nbconvert_exporter": "python",
   "pygments_lexer": "ipython3",
   "version": "3.7.7"
  }
 },
 "nbformat": 4,
 "nbformat_minor": 2
}